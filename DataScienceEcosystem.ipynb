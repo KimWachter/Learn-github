{
 "cells": [
  {
   "cell_type": "markdown",
   "id": "ce92af01-d7fa-4f36-b04a-9eb69e621f63",
   "metadata": {},
   "source": [
    "# Data Science Ecosystem"
   ]
  },
  {
   "cell_type": "markdown",
   "id": "6afbd7f6-3a5f-4dd5-9be4-fc6c015d7e81",
   "metadata": {},
   "source": [
    "### In this notebook, Data Science Tools and Ecosystems are summarized"
   ]
  },
  {
   "cell_type": "markdown",
   "id": "9eb2f108-3115-4d57-a86b-3fc1f0d5aed9",
   "metadata": {},
   "source": [
    "**Objectives**\n",
    "- List popular languages for Data Science\n",
    "- List popular libraries used in Data Science\n",
    "- Learn how to code in Python and Jupyter Notebook"
   ]
  },
  {
   "cell_type": "markdown",
   "id": "81d710d2-152d-47f2-8829-133a1134a53f",
   "metadata": {},
   "source": [
    "Some of the popular languages are\n",
    "1. Python\n",
    "2. R\n",
    "3. Julia"
   ]
  },
  {
   "cell_type": "markdown",
   "id": "333e7182-1fbe-48ce-8317-797a22709cae",
   "metadata": {},
   "source": [
    "#Some of the commonly used libraries used by Data Scientists include:\n",
    "- Pandas\n",
    "- Matplotlib\n",
    "- Scikit-learn"
   ]
  },
  {
   "cell_type": "markdown",
   "id": "9c186dcd-fe56-43f2-8772-0f6cb825d339",
   "metadata": {},
   "source": [
    "## Create markdown table\n",
    "| Data Science Tools |\n",
    "|-----|\n",
    "| Jupyter Notebook |\n",
    "| R |\n",
    "| Git |\n",
    " | GitHub |"
   ]
  },
  {
   "cell_type": "markdown",
   "id": "a6b687d3-a567-454b-87f9-ca73ed29489a",
   "metadata": {},
   "source": [
    "### Below are a few examples of evaluating arithmetic expressions in Python"
   ]
  },
  {
   "cell_type": "code",
   "execution_count": 39,
   "id": "b0cbc3ab-5927-483c-98b5-639a8fc0e769",
   "metadata": {},
   "outputs": [
    {
     "data": {
      "text/plain": [
       "28.75"
      ]
     },
     "execution_count": 39,
     "metadata": {},
     "output_type": "execute_result"
    }
   ],
   "source": [
    "345/12"
   ]
  },
  {
   "cell_type": "code",
   "execution_count": 41,
   "id": "e3a6a565-f00c-4972-9737-46587d1ecbab",
   "metadata": {},
   "outputs": [
    {
     "data": {
      "text/plain": [
       "160545"
      ]
     },
     "execution_count": 41,
     "metadata": {},
     "output_type": "execute_result"
    }
   ],
   "source": [
    "4587*35"
   ]
  },
  {
   "cell_type": "markdown",
   "id": "f1c0c9ca-8ac3-42cf-85aa-f0b5b1db076f",
   "metadata": {},
   "source": [
    "This a simple arithmetic expression to mutiply then add integers"
   ]
  },
  {
   "cell_type": "code",
   "execution_count": 45,
   "id": "1db436ee-025f-4181-beb2-62768611eb13",
   "metadata": {},
   "outputs": [
    {
     "data": {
      "text/plain": [
       "17"
      ]
     },
     "execution_count": 45,
     "metadata": {},
     "output_type": "execute_result"
    }
   ],
   "source": [
    "(3*4)+5"
   ]
  },
  {
   "cell_type": "markdown",
   "id": "f95008de-78d6-4fa3-9d8d-9f7e2272e97e",
   "metadata": {},
   "source": [
    "This will convert 200 minutes to hours by diving by 60"
   ]
  },
  {
   "cell_type": "code",
   "execution_count": 48,
   "id": "763f0fc3-a953-47e4-aba2-789591b8ed52",
   "metadata": {},
   "outputs": [
    {
     "data": {
      "text/plain": [
       "3.3333333333333335"
      ]
     },
     "execution_count": 48,
     "metadata": {},
     "output_type": "execute_result"
    }
   ],
   "source": [
    "200/60"
   ]
  },
  {
   "cell_type": "markdown",
   "id": "988de303-d913-403b-a97c-33130c9731f4",
   "metadata": {},
   "source": [
    "## Author\n",
    "Kim Wachter"
   ]
  },
  {
   "cell_type": "code",
   "execution_count": null,
   "id": "191e74fd-dc0a-47c1-97fe-a7ce882eee5b",
   "metadata": {},
   "outputs": [],
   "source": []
  }
 ],
 "metadata": {
  "kernelspec": {
   "display_name": "anaconda-panel-2023.05-py310",
   "language": "python",
   "name": "conda-env-anaconda-panel-2023.05-py310-py"
  },
  "language_info": {
   "codemirror_mode": {
    "name": "ipython",
    "version": 3
   },
   "file_extension": ".py",
   "mimetype": "text/x-python",
   "name": "python",
   "nbconvert_exporter": "python",
   "pygments_lexer": "ipython3",
   "version": "3.11.5"
  }
 },
 "nbformat": 4,
 "nbformat_minor": 5
}
